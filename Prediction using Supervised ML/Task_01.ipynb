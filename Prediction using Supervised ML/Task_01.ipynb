{
  "nbformat": 4,
  "nbformat_minor": 0,
  "metadata": {
    "colab": {
      "name": "Task_01.ipynb",
      "provenance": [],
      "collapsed_sections": []
    },
    "kernelspec": {
      "display_name": "Python 3",
      "language": "python",
      "name": "python3"
    },
    "language_info": {
      "codemirror_mode": {
        "name": "ipython",
        "version": 3
      },
      "file_extension": ".py",
      "mimetype": "text/x-python",
      "name": "python",
      "nbconvert_exporter": "python",
      "pygments_lexer": "ipython3",
      "version": "3.8.2"
    }
  },
  "cells": [
    {
      "cell_type": "markdown",
      "metadata": {
        "id": "Z1dOavLaFTCn"
      },
      "source": [
        "# Author : Vedanti Ekre\n",
        "\n",
        "# Email: vedantiekre@gmail.com\n",
        "\n",
        "## Task 1 : Prediction using Supervised Machine Learning\n",
        "___\n",
        "## GRIP @ The Sparks Foundation\n",
        "____\n",
        "# Role : Data Science and Business Analytics [Batch May-2021]"
      ]
    },
    {
      "cell_type": "markdown",
      "metadata": {
        "id": "6EY1YO2Z9tga"
      },
      "source": [
        "## TABLE OF CONTENTS:\n",
        "\n",
        "1. [Introduction](#intro)\n",
        "2. [Importing the dependencies](#libs)\n",
        "3. [Loading the Data](#DL)\n",
        "4. [Understanding data](#UD)\n",
        "5. [Spliting data in Test and Train](#split)\n",
        "6. [Use Simple Linear Regression Model to do prediction](#LR)\n",
        "7. [Task](#PT)\n",
        "8. [Evaluate the model using MAE and MSE metrics](#Eval)\n",
        "9. [Conslusion](#conclu)\n",
        "\n"
      ]
    },
    {
      "cell_type": "markdown",
      "metadata": {
        "id": "DX7H6U-tPXx6"
      },
      "source": [
        "## **Introduction**<a class=\"anchor\" id=\"intro\"></a>\n",
        "● We have given Student dataset,which have only two features Hours and scores.<br>\n",
        "● Predict the percentage of an student based on the no. of study hours.<br>\n",
        "● This is a simple linear regression task as it involves just 2 variables.<br>\n",
        "● You can use R, Python, SAS Enterprise Miner or any other tool<br>\n",
        "● Data can be found at http://bit.ly/w-data"
      ]
    },
    {
      "cell_type": "markdown",
      "metadata": {
        "id": "fPIIqDQCFTCq"
      },
      "source": [
        "## Importing dependencies<a class=\"anchor\" id=\"libs\"></a>"
      ]
    },
    {
      "cell_type": "code",
      "metadata": {
        "id": "2lveKmLX7U_1"
      },
      "source": [
        "#importing packages\n",
        "import matplotlib.pyplot as plt\n",
        "import numpy as np\n",
        "import pandas as pd\n",
        "import seaborn as sns\n",
        "%matplotlib inline"
      ],
      "execution_count": null,
      "outputs": []
    },
    {
      "cell_type": "markdown",
      "metadata": {
        "id": "PWkEOHEj-Ar1"
      },
      "source": [
        "## **Loading the Data**<a class=\"anchor\" id=\"DL\"></a>"
      ]
    },
    {
      "cell_type": "code",
      "metadata": {
        "id": "GX_rdxGU75EK"
      },
      "source": [
        "#importing datasets\n",
        "url = \"http://bit.ly/w-data\"\n",
        "data = pd.read_csv(url)"
      ],
      "execution_count": null,
      "outputs": []
    },
    {
      "cell_type": "markdown",
      "metadata": {
        "id": "1bJoiktf-Gmb"
      },
      "source": [
        "## **Understanding data**<a class=\"anchor\" id=\"UD\"></a>"
      ]
    },
    {
      "cell_type": "code",
      "metadata": {
        "colab": {
          "base_uri": "https://localhost:8080/",
          "height": 205
        },
        "id": "OdreYCnA-H9G",
        "outputId": "294cc237-5efc-469c-df7a-a8229376d730"
      },
      "source": [
        "display(data.head(3),data.tail(3))"
      ],
      "execution_count": null,
      "outputs": [
        {
          "output_type": "display_data",
          "data": {
            "text/html": [
              "<div>\n",
              "<style scoped>\n",
              "    .dataframe tbody tr th:only-of-type {\n",
              "        vertical-align: middle;\n",
              "    }\n",
              "\n",
              "    .dataframe tbody tr th {\n",
              "        vertical-align: top;\n",
              "    }\n",
              "\n",
              "    .dataframe thead th {\n",
              "        text-align: right;\n",
              "    }\n",
              "</style>\n",
              "<table border=\"1\" class=\"dataframe\">\n",
              "  <thead>\n",
              "    <tr style=\"text-align: right;\">\n",
              "      <th></th>\n",
              "      <th>Hours</th>\n",
              "      <th>Scores</th>\n",
              "    </tr>\n",
              "  </thead>\n",
              "  <tbody>\n",
              "    <tr>\n",
              "      <th>0</th>\n",
              "      <td>2.5</td>\n",
              "      <td>21</td>\n",
              "    </tr>\n",
              "    <tr>\n",
              "      <th>1</th>\n",
              "      <td>5.1</td>\n",
              "      <td>47</td>\n",
              "    </tr>\n",
              "    <tr>\n",
              "      <th>2</th>\n",
              "      <td>3.2</td>\n",
              "      <td>27</td>\n",
              "    </tr>\n",
              "  </tbody>\n",
              "</table>\n",
              "</div>"
            ],
            "text/plain": [
              "   Hours  Scores\n",
              "0    2.5      21\n",
              "1    5.1      47\n",
              "2    3.2      27"
            ]
          },
          "metadata": {
            "tags": []
          }
        },
        {
          "output_type": "display_data",
          "data": {
            "text/html": [
              "<div>\n",
              "<style scoped>\n",
              "    .dataframe tbody tr th:only-of-type {\n",
              "        vertical-align: middle;\n",
              "    }\n",
              "\n",
              "    .dataframe tbody tr th {\n",
              "        vertical-align: top;\n",
              "    }\n",
              "\n",
              "    .dataframe thead th {\n",
              "        text-align: right;\n",
              "    }\n",
              "</style>\n",
              "<table border=\"1\" class=\"dataframe\">\n",
              "  <thead>\n",
              "    <tr style=\"text-align: right;\">\n",
              "      <th></th>\n",
              "      <th>Hours</th>\n",
              "      <th>Scores</th>\n",
              "    </tr>\n",
              "  </thead>\n",
              "  <tbody>\n",
              "    <tr>\n",
              "      <th>22</th>\n",
              "      <td>3.8</td>\n",
              "      <td>35</td>\n",
              "    </tr>\n",
              "    <tr>\n",
              "      <th>23</th>\n",
              "      <td>6.9</td>\n",
              "      <td>76</td>\n",
              "    </tr>\n",
              "    <tr>\n",
              "      <th>24</th>\n",
              "      <td>7.8</td>\n",
              "      <td>86</td>\n",
              "    </tr>\n",
              "  </tbody>\n",
              "</table>\n",
              "</div>"
            ],
            "text/plain": [
              "    Hours  Scores\n",
              "22    3.8      35\n",
              "23    6.9      76\n",
              "24    7.8      86"
            ]
          },
          "metadata": {
            "tags": []
          }
        }
      ]
    },
    {
      "cell_type": "code",
      "metadata": {
        "colab": {
          "base_uri": "https://localhost:8080/"
        },
        "id": "Xgy95nk1-KBF",
        "outputId": "533b0c5c-574e-483f-b6ad-f8b4d26bc1c6"
      },
      "source": [
        "print(type(data))\n",
        "print('-'*45)\n",
        "print('The data set has {} rows and {} columns'.format(data.shape[0],data.shape[1]))\n",
        "print('-'*45)\n",
        "print('Data types :') \n",
        "print(data.dtypes.value_counts())\n",
        "#print('Total : ',data.dtypes.value_counts().sum())\n",
        "print('-'*45)"
      ],
      "execution_count": null,
      "outputs": [
        {
          "output_type": "stream",
          "text": [
            "<class 'pandas.core.frame.DataFrame'>\n",
            "---------------------------------------------\n",
            "The data set has 25 rows and 2 columns\n",
            "---------------------------------------------\n",
            "Data types :\n",
            "int64      1\n",
            "float64    1\n",
            "dtype: int64\n",
            "---------------------------------------------\n"
          ],
          "name": "stdout"
        }
      ]
    },
    {
      "cell_type": "code",
      "metadata": {
        "colab": {
          "base_uri": "https://localhost:8080/"
        },
        "id": "n4LBNXWV-Ico",
        "outputId": "62c0c3a4-c948-4759-c17e-6c3a056ebbc2"
      },
      "source": [
        "data.info()"
      ],
      "execution_count": null,
      "outputs": [
        {
          "output_type": "stream",
          "text": [
            "<class 'pandas.core.frame.DataFrame'>\n",
            "RangeIndex: 25 entries, 0 to 24\n",
            "Data columns (total 2 columns):\n",
            " #   Column  Non-Null Count  Dtype  \n",
            "---  ------  --------------  -----  \n",
            " 0   Hours   25 non-null     float64\n",
            " 1   Scores  25 non-null     int64  \n",
            "dtypes: float64(1), int64(1)\n",
            "memory usage: 528.0 bytes\n"
          ],
          "name": "stdout"
        }
      ]
    },
    {
      "cell_type": "code",
      "metadata": {
        "colab": {
          "base_uri": "https://localhost:8080/"
        },
        "id": "mKhpPgVb-aUP",
        "outputId": "8c4774ce-6e11-4dc4-81f4-ba3e0ba6113d"
      },
      "source": [
        "# Checking for the missing values\n",
        "data.isnull().sum()"
      ],
      "execution_count": null,
      "outputs": [
        {
          "output_type": "execute_result",
          "data": {
            "text/plain": [
              "Hours     0\n",
              "Scores    0\n",
              "dtype: int64"
            ]
          },
          "metadata": {
            "tags": []
          },
          "execution_count": 14
        }
      ]
    },
    {
      "cell_type": "markdown",
      "metadata": {
        "id": "5M_z4yaiRsgo"
      },
      "source": [
        "### Observation :<br>\n",
        " - ```There is no missing or null value & hence we don't need to do data preprocessing```"
      ]
    },
    {
      "cell_type": "markdown",
      "metadata": {
        "id": "_PvGRvYgIIlJ"
      },
      "source": [
        "## **Data Visualization**"
      ]
    },
    {
      "cell_type": "code",
      "metadata": {
        "colab": {
          "base_uri": "https://localhost:8080/"
        },
        "id": "_Fk0VuejFSb0",
        "scrolled": true,
        "outputId": "a3db8ac8-e5d6-43d1-ee95-0f3ade9bb94a"
      },
      "source": [
        "x = data.iloc[:,:-1].values  #spliting data in X & Y\n",
        "y = data.iloc[:,-1].values\n",
        "print(x[:5])\n",
        "print(y[:5])"
      ],
      "execution_count": null,
      "outputs": [
        {
          "output_type": "stream",
          "text": [
            "[[2.5]\n",
            " [5.1]\n",
            " [3.2]\n",
            " [8.5]\n",
            " [3.5]]\n",
            "[21 47 27 75 30]\n"
          ],
          "name": "stdout"
        }
      ]
    },
    {
      "cell_type": "code",
      "metadata": {
        "id": "DKxTzP5XFTCt",
        "outputId": "d8ba6fcd-922b-4cc3-b994-83b967ba8ace"
      },
      "source": [
        "plt.xlabel('hours')\n",
        "plt.ylabel('scores')\n",
        "plt.scatter(x,y,color='red',marker='+')\n",
        "plt.grid()\n",
        "plt.show()"
      ],
      "execution_count": null,
      "outputs": [
        {
          "output_type": "display_data",
          "data": {
            "image/png": "[encoded data removed]",
            "text/plain": [
              "<Figure size 432x288 with 1 Axes>"
            ]
          },
          "metadata": {
            "tags": [],
            "needs_background": "light"
          }
        }
      ]
    },
    {
      "cell_type": "markdown",
      "metadata": {
        "id": "A8oGJ35rFTCu"
      },
      "source": [
        "### Observation :\n",
        " - ```From the graph we can safely assume a positive linear relation between the number of hours studied and percentage of score```"
      ]
    },
    {
      "cell_type": "markdown",
      "metadata": {
        "id": "9piEmDnW_eR8"
      },
      "source": [
        "## **Spliting data in x_train , x_test and y_train , y_test** <a class=\"anchor\" id=\"split\"></a>"
      ]
    },
    {
      "cell_type": "code",
      "metadata": {
        "id": "zIkAttPmFsmX"
      },
      "source": [
        "from sklearn.model_selection import train_test_split  #spliting data in x_train , x_test & y_train,y_test \n",
        "x_train,x_test,y_train,y_test = train_test_split(x,y,test_size = 0.25, random_state = 0)"
      ],
      "execution_count": null,
      "outputs": []
    },
    {
      "cell_type": "markdown",
      "metadata": {
        "id": "tn2DtByR_bfT"
      },
      "source": [
        "## **Apply Linear Regression on train data**"
      ]
    },
    {
      "cell_type": "code",
      "metadata": {
        "colab": {
          "base_uri": "https://localhost:8080/"
        },
        "id": "tCjInXzh_ZDJ",
        "outputId": "95ec705b-3085-4cb4-9630-e3e2595d297f"
      },
      "source": [
        "from sklearn.linear_model import LinearRegression\n",
        "lin_reg = LinearRegression()\n",
        "lin_reg.fit(x_train,y_train)"
      ],
      "execution_count": null,
      "outputs": [
        {
          "output_type": "execute_result",
          "data": {
            "text/plain": [
              "LinearRegression()"
            ]
          },
          "metadata": {
            "tags": []
          },
          "execution_count": 33
        }
      ]
    },
    {
      "cell_type": "code",
      "metadata": {
        "colab": {
          "base_uri": "https://localhost:8080/",
          "height": 279
        },
        "id": "8f_pV9WXITyb",
        "outputId": "0912eed6-e670-4524-f374-4a3eb29659d4"
      },
      "source": [
        "plt.xlabel('hours')\n",
        "plt.ylabel('scores')\n",
        "plt.scatter(x_train,y_train,color='purple',marker='+',label='scatter plot')\n",
        "plt.plot(x_train,lin_reg.predict(x_train),color='green',label='reg_line')\n",
        "plt.legend()\n",
        "plt.grid()\n",
        "plt.show()"
      ],
      "execution_count": null,
      "outputs": [
        {
          "output_type": "display_data",
          "data": {
            "image/png": "[encoded data removed]",
            "text/plain": [
              "<Figure size 432x288 with 1 Axes>"
            ]
          },
          "metadata": {
            "tags": [],
            "needs_background": "light"
          }
        }
      ]
    },
    {
      "cell_type": "markdown",
      "metadata": {
        "id": "Mkugz8qaIfQ6"
      },
      "source": [
        "## **Apply Linear Regression on test data** <a class=\"anchor\" id=\"LR\"></a>"
      ]
    },
    {
      "cell_type": "code",
      "metadata": {
        "colab": {
          "base_uri": "https://localhost:8080/",
          "height": 279
        },
        "id": "cEXsiHHJLCLt",
        "outputId": "6a4d007b-fc57-4925-8fd7-3d22d64403dc"
      },
      "source": [
        "plt.xlabel('hours')\n",
        "plt.ylabel('scores')\n",
        "plt.scatter(x_test,y_test,color='blue',marker='+',label='scatter plot')\n",
        "plt.plot(x_train,lin_reg.predict(x_train),color='purple',label='reg_line')\n",
        "plt.legend()\n",
        "plt.grid()\n",
        "plt.show()"
      ],
      "execution_count": null,
      "outputs": [
        {
          "output_type": "display_data",
          "data": {
            "image/png": "[encoded data removed]",
            "text/plain": [
              "<Figure size 432x288 with 1 Axes>"
            ]
          },
          "metadata": {
            "tags": [],
            "needs_background": "light"
          }
        }
      ]
    },
    {
      "cell_type": "markdown",
      "metadata": {
        "id": "8rT1VTy1Im3j"
      },
      "source": [
        "### **Coefficents and y-intercept**"
      ]
    },
    {
      "cell_type": "code",
      "metadata": {
        "colab": {
          "base_uri": "https://localhost:8080/"
        },
        "id": "AOEPm-5YIsY_",
        "outputId": "aca6159f-3c6b-42b2-80bf-8feedca605d2"
      },
      "source": [
        "print('coefficents : ',lin_reg.coef_)\n",
        "print('y-intercept : ',lin_reg.intercept_)"
      ],
      "execution_count": null,
      "outputs": [
        {
          "output_type": "stream",
          "text": [
            "coefficents :  [9.94167834]\n",
            "y-intercept :  1.932204253151646\n"
          ],
          "name": "stdout"
        }
      ]
    },
    {
      "cell_type": "code",
      "metadata": {
        "colab": {
          "base_uri": "https://localhost:8080/"
        },
        "id": "5ZrUOCd_A1xq",
        "outputId": "02f18fe8-464c-4f05-a5c1-59782de0e38e"
      },
      "source": [
        "y_pred = lin_reg.predict(x_test)\n",
        "y_pred"
      ],
      "execution_count": null,
      "outputs": [
        {
          "output_type": "execute_result",
          "data": {
            "text/plain": [
              "array([16.84472176, 33.74557494, 75.50062397, 26.7864001 , 60.58810646,\n",
              "       39.71058194, 20.8213931 ])"
            ]
          },
          "metadata": {
            "tags": []
          },
          "execution_count": 37
        }
      ]
    },
    {
      "cell_type": "markdown",
      "metadata": {
        "id": "l3tIWYAMIkLV"
      },
      "source": [
        "## Comparing Actual value with Predicted value"
      ]
    },
    {
      "cell_type": "code",
      "metadata": {
        "colab": {
          "base_uri": "https://localhost:8080/",
          "height": 268
        },
        "id": "L5M0h9w7BA5b",
        "outputId": "4930165b-9c2c-428f-f1f1-0d10144cddb5"
      },
      "source": [
        "result = pd.DataFrame({'Actual values':y_test,'Predicted values':y_pred})\n",
        "result"
      ],
      "execution_count": null,
      "outputs": [
        {
          "output_type": "execute_result",
          "data": {
            "text/html": [
              "<div>\n",
              "<style scoped>\n",
              "    .dataframe tbody tr th:only-of-type {\n",
              "        vertical-align: middle;\n",
              "    }\n",
              "\n",
              "    .dataframe tbody tr th {\n",
              "        vertical-align: top;\n",
              "    }\n",
              "\n",
              "    .dataframe thead th {\n",
              "        text-align: right;\n",
              "    }\n",
              "</style>\n",
              "<table border=\"1\" class=\"dataframe\">\n",
              "  <thead>\n",
              "    <tr style=\"text-align: right;\">\n",
              "      <th></th>\n",
              "      <th>Actual values</th>\n",
              "      <th>Predicted values</th>\n",
              "    </tr>\n",
              "  </thead>\n",
              "  <tbody>\n",
              "    <tr>\n",
              "      <th>0</th>\n",
              "      <td>20</td>\n",
              "      <td>16.844722</td>\n",
              "    </tr>\n",
              "    <tr>\n",
              "      <th>1</th>\n",
              "      <td>27</td>\n",
              "      <td>33.745575</td>\n",
              "    </tr>\n",
              "    <tr>\n",
              "      <th>2</th>\n",
              "      <td>69</td>\n",
              "      <td>75.500624</td>\n",
              "    </tr>\n",
              "    <tr>\n",
              "      <th>3</th>\n",
              "      <td>30</td>\n",
              "      <td>26.786400</td>\n",
              "    </tr>\n",
              "    <tr>\n",
              "      <th>4</th>\n",
              "      <td>62</td>\n",
              "      <td>60.588106</td>\n",
              "    </tr>\n",
              "    <tr>\n",
              "      <th>5</th>\n",
              "      <td>35</td>\n",
              "      <td>39.710582</td>\n",
              "    </tr>\n",
              "    <tr>\n",
              "      <th>6</th>\n",
              "      <td>24</td>\n",
              "      <td>20.821393</td>\n",
              "    </tr>\n",
              "  </tbody>\n",
              "</table>\n",
              "</div>"
            ],
            "text/plain": [
              "   Actual values  Predicted values\n",
              "0             20         16.844722\n",
              "1             27         33.745575\n",
              "2             69         75.500624\n",
              "3             30         26.786400\n",
              "4             62         60.588106\n",
              "5             35         39.710582\n",
              "6             24         20.821393"
            ]
          },
          "metadata": {
            "tags": []
          },
          "execution_count": 38
        }
      ]
    },
    {
      "cell_type": "code",
      "metadata": {
        "id": "qeFWgg9uFTCw",
        "outputId": "557fc3fe-8d57-435c-cda7-0f5c72a0abf8"
      },
      "source": [
        "# Plotting the Bar graph to depict the difference between the actual and predicted value\n",
        "\n",
        "result.plot(kind='bar',figsize=(9,9))\n",
        "plt.grid(which='major', linewidth='0.5', color='red')\n",
        "plt.grid(which='minor', linewidth='0.5', color='blue')\n",
        "plt.show()"
      ],
      "execution_count": null,
      "outputs": [
        {
          "output_type": "display_data",
          "data": {
            "image/png": "[encoded data removed]",
            "text/plain": [
              "<Figure size 648x648 with 1 Axes>"
            ]
          },
          "metadata": {
            "tags": [],
            "needs_background": "light"
          }
        }
      ]
    },
    {
      "cell_type": "code",
      "metadata": {
        "colab": {
          "base_uri": "https://localhost:8080/"
        },
        "id": "bYHZ6ReGB6BA",
        "outputId": "01b28e37-43a8-4530-9704-24ed723ed90a"
      },
      "source": [
        "diff = np.array(np.abs(y_test-y_pred))\n",
        "diff"
      ],
      "execution_count": null,
      "outputs": [
        {
          "output_type": "execute_result",
          "data": {
            "text/plain": [
              "array([3.15527824, 6.74557494, 6.50062397, 3.2135999 , 1.41189354,\n",
              "       4.71058194, 3.1786069 ])"
            ]
          },
          "metadata": {
            "tags": []
          },
          "execution_count": 45
        }
      ]
    },
    {
      "cell_type": "markdown",
      "metadata": {
        "id": "YMwEErlDIuph"
      },
      "source": [
        "## Displot distribution of Actual value with Predicted value"
      ]
    },
    {
      "cell_type": "code",
      "metadata": {
        "colab": {
          "base_uri": "https://localhost:8080/",
          "height": 369
        },
        "id": "63TpFUeEBUB6",
        "outputId": "d157d424-e3a8-490d-d6de-2f582ac083ea"
      },
      "source": [
        "sns.set_style('whitegrid')\n",
        "sns.kdeplot(diff,shade=True)\n",
        "plt.show()"
      ],
      "execution_count": null,
      "outputs": [
        {
          "output_type": "display_data",
          "data": {
            "image/png": "[encoded data removed]",
            "text/plain": [
              "<Figure size 432x288 with 1 Axes>"
            ]
          },
          "metadata": {
            "tags": []
          }
        }
      ]
    },
    {
      "cell_type": "markdown",
      "metadata": {
        "id": "jfHjYF6GJLMF"
      },
      "source": [
        "# **Task** <a class=\"anchor\" id=\"PT\"></a>\n",
        "## - What will be predicted score if a student studies for 9.25 hrs/ day?"
      ]
    },
    {
      "cell_type": "code",
      "metadata": {
        "colab": {
          "base_uri": "https://localhost:8080/"
        },
        "id": "HU2vf46WHdAS",
        "outputId": "0928788d-c3fb-4419-b891-867009e46731"
      },
      "source": [
        "import math\n",
        "# y = mx + c\n",
        "res = lin_reg.intercept_+9.25*lin_reg.coef_\n",
        "hr= 9.25\n",
        "print(\"If student study for {} hrs/day student will get {}% score in exam\".format(hr,math.floor(res[0])))\n",
        "print('-'*80)"
      ],
      "execution_count": null,
      "outputs": [
        {
          "output_type": "stream",
          "text": [
            "If student study for 9.25 hrs/day student will get 93% score in exam\n"
          ],
          "name": "stdout"
        }
      ]
    },
    {
      "cell_type": "markdown",
      "metadata": {
        "id": "884nJWdlFTCx"
      },
      "source": [
        "# Model Evaluation <a class=\"anchor\" id=\"Eval\"></a> "
      ]
    },
    {
      "cell_type": "markdown",
      "metadata": {
        "id": "KBnODZ3ZI8kZ"
      },
      "source": [
        "## MAE :\n",
        " - MAE measures the differences between prediction and actual observation.<br>\n",
        " Formula is :<br>\n",
        " ![1_OVlFLnMwHDx08PHzqlBDag.gif](data:image/gif;base64,R0lGODlhOwFaAIcAAAAAAAQEBAgICAwMDBAQEBQUFBgYGBwcHCAgICQkJCgoKCwsLDAwMDQ0NDg4ODw8PEBAQEREREhISExMTFBQUFVVVVlZWV1dXWFhYWVlZWlpaW1tbXFxcXV1dXl5eX19fYGBgYWFhYmJiY2NjZGRkZWVlZmZmZ2dnaGhoaWlpaqqqq6urrKysra2trq6ur6+vsLCwsbGxsrKys7OztLS0tbW1tra2t7e3uLi4ubm5urq6u7u7vLy8vb29vr6+v///wAAAAAAAAAAAAAAAAAAAAAAAAAAAAAAAAAAAAAAAAAAAAAAAAAAAAAAAAAAAAAAAAAAAAAAAAAAAAAAAAAAAAAAAAAAAAAAAAAAAAAAAAAAAAAAAAAAAAAAAAAAAAAAAAAAAAAAAAAAAAAAAAAAAAAAAAAAAAAAAAAAAAAAAAAAAAAAAAAAAAAAAAAAAAAAAAAAAAAAAAAAAAAAAAAAAAAAAAAAAAAAAAAAAAAAAAAAAAAAAAAAAAAAAAAAAAAAAAAAAAAAAAAAAAAAAAAAAAAAAAAAAAAAAAAAAAAAAAAAAAAAAAAAAAAAAAAAAAAAAAAAAAAAAAAAAAAAAAAAAAAAAAAAAAAAAAAAAAAAAAAAAAAAAAAAAAAAAAAAAAAAAAAAAAAAAAAAAAAAAAAAAAAAAAAAAAAAAAAAAAAAAAAAAAAAAAAAAAAAAAAAAAAAAAAAAAAAAAAAAAAAAAAAAAAAAAAAAAAAAAAAAAAAAAAAAAAAAAAAAAAAAAAAAAAAAAAAAAAAAAAAAAAAAAAAAAAAAAAAAAAAAAAAAAAAAAAAAAAAAAAAAAAAAAAAAAAAAAAAAAAAAAAAAAAAAAAAAAAAAAAAAAAAAAAAAAAAAAAAAAAAAAAAAAAAAAAAAAAAAAAAAAAAAAAAAAAAAAAAAAAAAAAAAAAAAAAAAAAAAAAAAAAAAAAAAAAAAAAAAAAAAAAAAAAAAAAAAAAAAAAAAAAAAAAAAAAAAAAAAAAAAAAAAAAAAAAAAAAAAAAAAAAAACwAAAAAOwFaAIWlpaXGxsZQUFA0NDT6+vowMDDm5uYQEBBVVVV5eXnu7u7CwsIEBASNjY2dnZ0AAADOzs4YGBji4uKJiYltbW19fX1ZWVna2tpdXV2urq4sLCyZmZl1dXWFhYUoKChhYWH29vYgICCRkZEMDAyqqqplZWVISEg4ODiVlZWBgYEkJCQUFBRxcXHW1ta6urq+vr6ysrLy8vL///9AQEDKyso8PDy2trahoaEcHBzq6uppaWkICAjS0tJERETe3t5MTEwG/wQZgVg0HpFJ5ZLZdD6hUek0Kcu9JDItzcXTUsFh8ZgsHQq1afWa3Xa/4XH5nF63390KCkcVMLAqGgpY8AoNDxET8YjOyhwfISMhZSpuZCJCMBa0HB42JUFDRc0YR01PUcOsfhRyDhhohmQ6ARpTb3HFzmxze31Fc2JhHjh2dR5if5WXkXaZn6HBtDg8ZUFCcEB4o7lNnbvBw0DQRmVODhRkXx4IFRTC4UG/4+mZvjoCth1lDBh6dksgk8EBhr56B6HMQ4hQiwEAPR44MEhGRoYHHayt0CCjBauFH0kJAVmPH4IaA2o8eFArlAwWD/IxsoADhoVPI3EuUZizmwIAGf98KMCxcuIYGQEcHImBogOEojxB7oT6bFyaHBGIivpSRFuaqV9LiQQLjh9WlmPR3pKaVlnZrGzhag0bd5nbs3Tx7pubt5fdp3wB29sbOJVfwoejrEXc0oDZv4sPK4YcybAZRXMm45KceV/jt1BiuIAxGkYG06dRp1ZtmnTr0ck4n9oc26jnu05kSFC5m3dv37+Bq1yR4zFtVYONd3Y8BQNvDQEWvJA+nXp1FzZgABBRAcMArL1FFE8+ZfZ48rbFC1HggTcKRQZssFCxu4A285SR31eFnnyAHbsZuEkVLRTYgL0HCtLvkfIUxO2qzxITgTcViBvHKBkUOOafJtJDrCv/C49gUC/A0ogBKxK8MgMB3hDoUCcZOhBoCRBaAFE/Ay5QYhc2ElqjiRh8eGqRbniAjpoHarAhgADeSSyH+XYLb0EZPrDAoKNCuMDFg7pSJYUZ9DnDgAUWoAECCLJwIoYzIYAOAnsmWCHIGVuAoIUL8GyBhz35vBNPA7oBAYMTTqqh0BkGgC2hBRjYbYeY9lHgBKeqcGEEL+KSwQdFzWChgDCFyGCAAx/QIIaiKNkNhwE+KKqAB9zTUQEBCohghxFGiGCAXXfVAIdGd7Ay0KpSBMHGhCbgzYN0FqShBR1fOKCFLemxYj5IzeBgAFCFMHaCCEaAMEQDEFjhgRlyIOBY/yNkoEGlDZUAIYccIAhBJRgUMEBfAyRoIYMZHiggMBl+4K3VSa6Mdlq2+PFAgApGEDAhbbmVxQYEVvxhollSeFWHrXRMQKUdFtZRCwEe2CELNyw4gLi8tJFgqN02oNYMhW0mywcPWpVBhBVeSG+gbasopaIPLCJ5Ih0gmK8EVEGowQSVGhAS5R20rMKHCDDlSwYXeBuBUm9wTguEHxL4oqIB5pyY6GaMzgABELCqIMwFWCDA3qftgeGEC8I9weqUsy6iERlMsCHnhVKl71SypV2cGxAKZySobN8OMW4BZKDgARUeD7ECxfdGFQNCpmZgbB2vrpwACWJghAUpSSQAov/d+C6n7LS26XDoikPlPIB7eeHnAxBiKF0nBfqYRaUUUG29ERAEyFoGAGIdeGveLNE9cs1BNlxyeVLkKo11daS4aJEq4tycB1oM8YYJMFReRwAGEEICcwXeWHpGYjCAysUuMhbZzfdasjuRiKAETLPFUWwQDhm8gAIY6J4RckACQLkNeO3TAgoeMIK2MUIHXlCA/arwMFlYQCXYasbVDKAGABwgTU8gViEkeCSVnMA+8lCgDErAgguY4AAxZIQBXvGyaMiABCYIAAAicriASISD65NFBtxnAHPRz3A0+Fj9HpC7ZhhABZRiokqKoROUMeADLKCADnrAgBHU8AkGmED/CvCYRz3uMY8deBZZCJCS3RAigQiUAQqs1Lm3VKRUPXxGbmqgJXeZYBcxGIriqgg39mFRFh9o5C5SgCIwijFEGxAcIxSAFdBdaY0f4IAbTSBHOnKIB6PywC1xmUtd3lIDmCRLCw7AGxT58HsyiMEMpgUCDTzAly55AAV40ZXxmSEBdoPRA4QlBHetgFkh0oKNfmfF4KlDJS6QRQ4wkI5RXskE4VGD5x5gTtaljDhpmGENP2QP9M1ILLgZkiqguJsVuG4fZatIi2SwgAfgQIkEOIG4ZMADDPjSHv9EQgx6gKlXneWQD9BYM1yAga4xQn2avCLnRPIqDMgCANBTDwrZ/7U1ANBgSQGgQYwe8LF5Yq2SAmxEDjYomMQsqgBFNepRkWrUC6riGLs5QTcXtDsfaEmRhBSCD3bAAILKIAUPqNqPUFABsY6VrGUVqwP2uSYhDC8C3ZTBijDywng+sKSa2yRKhdCAB9BQCw58aRjDhIIR1OAEhS1sDf6DA6iy639EAAECCieDBCw1FxGlAAswm1nNbtaNQTNKAHcjwmkyomzSTGU1GGGR/CVBAi7Yp+EU8AMNzJa2tbWtBjxggdDBzZnQBKC9JFaEFiygGXVl1+Z24YNwhQcCOv0rKQ1XAxEQwB3uiAEI4JmBMDVWXQYAkQwE4EIjSBOHTSCvHV6bkP8WDIUBCaKMAoVggwd4QCy9DVNxfMchEMxHntp8QFvvW9zMHfeuh2PhtiZwwXU2gwcqiCEbhofN7RLugYYzQA1meQQJpIADHfbwh0Hs4QqMFBzaUCasRms4+DrTqkIYwAOGaTgQqDO95XAXgBmh14+yKwY0DpFxDYdcw8mXmRRQ4oJDlIL4hejEKzBiiLgbIhKcwB4tqEFSsYzUAVAUkChLIzFLxgiAcRSrPDUcDEqAAQtIoC2doKThVsRFwzmgBAJgAQHZBeSwyAIGeO3WMnHwVVTCFA0niHGSVXIbRkRZfCdYssmoED6yeC6RhQwzEZb5CW2Q4AGZk8ENMOADHzz/YKW/kEGyfNstrGCLqyxQwDoEbTg911cLIvBAiq7JgJJ9YShflAGxSKC0X7OLI43S2FbSAMM3VOAiKWZIsmrgSElMEIGMSEk+7AMwq7arB8TpB5hM3YlUd1SxuyCB+xT6ZVkPOMgEuMIEwiWADECgKhd4wJupS9OuLjQDNOABAeAjsgecIANBJYIPXvASlVRgAfQGQZFmSDUI0NSmC4BBB16FIGeThNMO3riKqy0EKBIiN558gHYZgR0tDMNupm5MBE41C3M9+tOxuOahScpuo5EAtyi5JQIe55IERdRQKDlJYVuVgVsSygMqODSMimqoExRgAD+4Lq1UoIJbqiCp/x6IAA48oIFLk2gBOzgAicFcvAaEwJUlSMEOVHY4WVDDs6aGQA16wIEPpCAltGOELCCS4XCa9IbqIjZXbjgEY6mLvIYf73kXz/gjGIvykZ+MDC6Alf5679JWsYENQHCDB8ArRAUYQUMr+4UAZOACCggm2oXgitX+WOf1bVA4tJGDZVJRNvB1gAhiroWUKPqqo/84bgLQAS+kYQMeDdM6Wrxu4N1+ckOASMsdkc9m7K6jMOGzR3Vkkbj2xQfB5NuvVXCpMHXVvXmuvYiojwoteLJnCwIqtAzZnBrUU4vLCtNLgqswwCYCCkILAgLlqqAH4k7Api/+HqmrTKBbFgQDNv+PXbhPBJ5KCwIg7AjKcDQAHY7PHnZGu6ygBHaA95ohB3bglBhQnByQGZxHA9KhxhIDf/bpa87OFjqg7U6gA6SNHDSFAXbMF77GAjDLBCyAxIhFCMAmbaqABd4vP16waL5Jmsgh0gawA3XBP+Rs+3TtDOrNBhYg5pAABVhAG2IEAU3t1WxgZZAABCqAft7qAWBPCFhgI1xwCu0BBT5AB6jKABpABzBABzjlCSLqFQJwQGzgAHbgycZIBJqE2MJEAUIog4ghBBND0hgBAgYOBJIFBUMkACir3TCRME7NAlpgALLBBUygAe5EAHagAjmEjGBMctJAApqq1OJFJGjwCFL/4AdYQABwjh4yxAJKwCYmQvvsqhRJJAdmIIaYTQAsgKo44lzwK2oewJ0UAQQo6DuY6eMwxA0RoiqAShOHqp/0sBluoGdYCAdqCPM+Z7dehIU+gLqq6x7xER/nRQJ44AUAoAMsAEp2wwN+EGFywhxDghm9pgQkIgbm4+nka/Y45EhCABtw4CIxMiM18iIj4ABGoFGCw6XSMSFHUgkgIB22abck6wEOhkNwKjhgMiZ7Y+xKUqgUEmbSAISGUAgeivjeEANmoAeEciiJsiiN8iiNcgairyY5RAprcg67MKJk6TEuAzOYMiGcciQxZCgE5NQeAKVu8ioXJCvTsV3+a7E2/0oLOiARxRIe4C/+ZEDHDkehIoA4cqAGRqgtSYIs9RAqDweEemYCllIv4+Etbw9DzKUrm3CCesARCbNa+PIF+WEFeIgXKKAAKAABVgcKiKUXDTEsLy8yp7AFUG8TbUAeoyAGSODfLmQISIDNHlNHRFMyh60ZqOXTAGsMLuAFUAAiZDE29ww4WwICEuCPVKEDMGACIKLuhJMUm5N8alMXnIk5n9Mwn/NFyociPIc6m9M6rzMFBbMBwMkOQmQ7QXMxvPM7DccHLMABGMW5ZMAGqsmsyqqacoRdzFM901M9CSAGBKAAcSAEdsEBBOAHDPRAEfRAEYBTFIk7hXM/v/Nr0tymGv3sDsApPyN0Nvlz8hhB9LJHOx/AQYETQjeUSmTk7+qgPEP0PBGDRPVTbyKghw5pBmi0Rm3URnvAhRqURSNDQzc0RHhAwoxgARqgSI30SI9UBHyA2F4iH3h0YHz0R+fsAWpGEunAQhRAAnwAYBqAX/DsQaNUSoWgOerQDHrTBAilBgy0TNvSRYGzS34NGwqSCpCnS+r0Ot00NjkiA05FoQZTTHUhTNWTPXIgBsKuNAE1UNGgKhm1UR31UdUAAzxABH4AA4IPUjE1UzW1UQVVPWkABpYvUSeBAIIAADs=)"
      ]
    },
    {
      "cell_type": "code",
      "metadata": {
        "colab": {
          "base_uri": "https://localhost:8080/"
        },
        "id": "DE_RNvYNLgxN",
        "outputId": "daa3011b-3812-4511-f5e3-2bdae47d6534"
      },
      "source": [
        "from sklearn import metrics  \n",
        "print('Mean Absolute Error:', \n",
        "      metrics.mean_absolute_error(y_test, y_pred)) "
      ],
      "execution_count": null,
      "outputs": [
        {
          "output_type": "stream",
          "text": [
            "Mean Absolute Error: 4.130879918502482\n"
          ],
          "name": "stdout"
        }
      ]
    },
    {
      "cell_type": "markdown",
      "metadata": {
        "id": "2oY4inAgJAf4"
      },
      "source": [
        "## MSE :\n",
        "- MSE simply refers to the mean of the squared difference between the predicted value and the observed value.<br>\n",
        "Formula : <br>![1_-e1QGatrODWpJkEwqP4Jyg.png](data:image/png;base64,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)"
      ]
    },
    {
      "cell_type": "code",
      "metadata": {
        "colab": {
          "base_uri": "https://localhost:8080/"
        },
        "id": "dpfYAObBLgp0",
        "outputId": "c4c4c089-3d6f-439a-cfeb-c3bf102c844f"
      },
      "source": [
        "from sklearn import metrics  \n",
        "print('Mean Squared Error:', \n",
        "      metrics.mean_squared_error(y_test, y_pred)) "
      ],
      "execution_count": null,
      "outputs": [
        {
          "output_type": "stream",
          "text": [
            "Mean Absolute Error: 20.33292367497996\n"
          ],
          "name": "stdout"
        }
      ]
    },
    {
      "cell_type": "markdown",
      "metadata": {
        "id": "MyCRFiC4Tk8V"
      },
      "source": [
        "## **R-Square** :\n",
        " - R-squared is  measure of how close the data are to the fitted regression line.<br>\n",
        " Formula : <br>![images.png](data:image/png;base64,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)"
      ]
    },
    {
      "cell_type": "code",
      "metadata": {
        "colab": {
          "base_uri": "https://localhost:8080/"
        },
        "id": "_AgoB2wOTkS9",
        "outputId": "6bdd2cd3-e511-4fc0-c7f9-5d9bda76fb69"
      },
      "source": [
        "from sklearn.metrics import r2_score\n",
        "r2_score(y_test,y_pred)"
      ],
      "execution_count": null,
      "outputs": [
        {
          "output_type": "execute_result",
          "data": {
            "text/plain": [
              "0.9367661043365056"
            ]
          },
          "metadata": {
            "tags": []
          },
          "execution_count": 73
        }
      ]
    },
    {
      "cell_type": "markdown",
      "metadata": {
        "id": "aYVR0mCXJ7zO"
      },
      "source": [
        "# **Conclusion :**<br><a class=\"anchor\" id=\"conclu\"></a>\n",
        "- We have successfully created a Simple linear Regression model to predict score of the student given number of hours one studies.\n",
        "- By the MAE and MSE , we are not getting much difference in actual or predicted value , means error is less.\n",
        "- The Score of R-Square **0.93** quite close to **1**."
      ]
    }
  ]
}